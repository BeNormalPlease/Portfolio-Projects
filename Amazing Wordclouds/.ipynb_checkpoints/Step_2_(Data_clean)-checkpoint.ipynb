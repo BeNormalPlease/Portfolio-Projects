{
 "cells": [
  {
   "cell_type": "code",
   "execution_count": 9,
   "metadata": {
    "id": "PKtGQBnsp9yf"
   },
   "outputs": [],
   "source": [
    "import pandas as pd"
   ]
  },
  {
   "cell_type": "code",
   "execution_count": 10,
   "metadata": {
    "id": "cf4SM_cuwb4J"
   },
   "outputs": [
    {
     "name": "stdout",
     "output_type": "stream",
     "text": [
      "<class 'pandas.core.frame.DataFrame'>\n",
      "RangeIndex: 7072 entries, 0 to 7071\n",
      "Data columns (total 32 columns):\n",
      " #   Column              Non-Null Count  Dtype  \n",
      "---  ------              --------------  -----  \n",
      " 0   _                   7072 non-null   object \n",
      " 1   id                  7072 non-null   int64  \n",
      " 2   peer_id             7072 non-null   object \n",
      " 3   date                7072 non-null   object \n",
      " 4   message             4961 non-null   object \n",
      " 5   out                 7072 non-null   bool   \n",
      " 6   mentioned           7072 non-null   bool   \n",
      " 7   media_unread        7072 non-null   bool   \n",
      " 8   silent              7072 non-null   bool   \n",
      " 9   post                7072 non-null   bool   \n",
      " 10  from_scheduled      7071 non-null   float64\n",
      " 11  legacy              7072 non-null   bool   \n",
      " 12  edit_hide           7071 non-null   float64\n",
      " 13  pinned              7071 non-null   float64\n",
      " 14  noforwards          7071 non-null   float64\n",
      " 15  from_id             0 non-null      float64\n",
      " 16  fwd_from            314 non-null    object \n",
      " 17  via_bot_id          0 non-null      float64\n",
      " 18  reply_to            347 non-null    object \n",
      " 19  media               7031 non-null   object \n",
      " 20  reply_markup        4 non-null      object \n",
      " 21  entities            7071 non-null   object \n",
      " 22  views               7071 non-null   float64\n",
      " 23  forwards            7071 non-null   float64\n",
      " 24  replies             4365 non-null   object \n",
      " 25  edit_date           7069 non-null   object \n",
      " 26  post_author         0 non-null      float64\n",
      " 27  grouped_id          2945 non-null   float64\n",
      " 28  reactions           0 non-null      float64\n",
      " 29  restriction_reason  7071 non-null   object \n",
      " 30  ttl_period          0 non-null      float64\n",
      " 31  action              1 non-null      object \n",
      "dtypes: bool(6), float64(12), int64(1), object(13)\n",
      "memory usage: 1.4+ MB\n"
     ]
    }
   ],
   "source": [
    "#Данные получены, теперь причёсываем их\n",
    "#Первым делом узнаём как выглядят наши преобразованные csv-шки\n",
    "topor = pd.read_csv('Step 1/topor.csv')\n",
    "topor.info()"
   ]
  },
  {
   "cell_type": "code",
   "execution_count": 11,
   "metadata": {
    "id": "xyehHZNhwv1A"
   },
   "outputs": [
    {
     "name": "stdout",
     "output_type": "stream",
     "text": [
      "<class 'pandas.core.frame.DataFrame'>\n",
      "RangeIndex: 7072 entries, 0 to 7071\n",
      "Data columns (total 5 columns):\n",
      " #   Column    Non-Null Count  Dtype  \n",
      "---  ------    --------------  -----  \n",
      " 0   Group     7072 non-null   object \n",
      " 1   date      7072 non-null   object \n",
      " 2   message   4961 non-null   object \n",
      " 3   views     7071 non-null   float64\n",
      " 4   forwards  7071 non-null   float64\n",
      "dtypes: float64(2), object(3)\n",
      "memory usage: 276.4+ KB\n"
     ]
    }
   ],
   "source": [
    "#Создаём метку 'Group', как маяк для будущего облака слов\n",
    "topor['Group'] = 'Топор'\n",
    "\n",
    "#Оставляем всё необходимое (Хоть и пригодятся только 'Group' и 'message')\n",
    "topor_new = topor[['Group', 'date', 'message', 'views', 'forwards']]\n",
    "topor_new.info()"
   ]
  },
  {
   "cell_type": "code",
   "execution_count": 12,
   "metadata": {
    "id": "UIRgTJjJyNe5"
   },
   "outputs": [
    {
     "name": "stdout",
     "output_type": "stream",
     "text": [
      "<class 'pandas.core.frame.DataFrame'>\n",
      "Int64Index: 4961 entries, 0 to 7070\n",
      "Data columns (total 5 columns):\n",
      " #   Column    Non-Null Count  Dtype  \n",
      "---  ------    --------------  -----  \n",
      " 0   Group     4961 non-null   object \n",
      " 1   date      4961 non-null   object \n",
      " 2   message   4961 non-null   object \n",
      " 3   views     4961 non-null   float64\n",
      " 4   forwards  4961 non-null   float64\n",
      "dtypes: float64(2), object(3)\n",
      "memory usage: 232.5+ KB\n"
     ]
    }
   ],
   "source": [
    "#Видим, что нужный нам параметр 'message' есть не у всех значений, поэтому чистим всё, где этого параметра нет \n",
    "#(т.к данные без этого параметра в нашей ситуации просто бесполезны)\n",
    "topor_clear = topor_new.dropna()\n",
    "topor_clear.info()"
   ]
  },
  {
   "cell_type": "code",
   "execution_count": 13,
   "metadata": {
    "id": "tqfKPHJ9yX-w"
   },
   "outputs": [],
   "source": [
    "#Приводим к нужному виду оставшиеся файлы\n",
    "origache = pd.read_csv('Step 1/origache.csv')\n",
    "rhymestg = pd.read_csv('Step 1/rhymestg.csv')\n",
    "rian_ru = pd.read_csv('Step 1/rian_ru.csv')"
   ]
  },
  {
   "cell_type": "code",
   "execution_count": 14,
   "metadata": {
    "id": "Kldi6LIP0FK6"
   },
   "outputs": [],
   "source": [
    "origache['Group'] = 'Аче'\n",
    "origache_new = origache[['Group', 'date', 'message', 'views', 'forwards']]\n",
    "origache_clear = origache_new.dropna()\n",
    "\n",
    "rhymestg['Group'] = 'Рифмы и панчи'\n",
    "rhymestg_new = rhymestg[['Group', 'date', 'message', 'views', 'forwards']]\n",
    "rhymestg_clear = rhymestg_new.dropna()\n",
    "\n",
    "rian_ru['Group'] = 'Риа'\n",
    "rian_ru_new = rian_ru[['Group', 'date', 'message', 'views', 'forwards']]\n",
    "rian_ru_clear = rian_ru_new.dropna()"
   ]
  },
  {
   "cell_type": "code",
   "execution_count": 15,
   "metadata": {
    "id": "IAGN-X-90xUx"
   },
   "outputs": [
    {
     "name": "stdout",
     "output_type": "stream",
     "text": [
      "<class 'pandas.core.frame.DataFrame'>\n",
      "Int64Index: 29273 entries, 0 to 9999\n",
      "Data columns (total 5 columns):\n",
      " #   Column    Non-Null Count  Dtype  \n",
      "---  ------    --------------  -----  \n",
      " 0   Group     29273 non-null  object \n",
      " 1   date      29273 non-null  object \n",
      " 2   message   29273 non-null  object \n",
      " 3   views     29273 non-null  float64\n",
      " 4   forwards  29273 non-null  float64\n",
      "dtypes: float64(2), object(3)\n",
      "memory usage: 1.3+ MB\n"
     ]
    }
   ],
   "source": [
    "#Теперь для будущего удобства создаём одну большую табличку с очищенными данными и раставленными маячками групп\n",
    "ultra_table= pd.concat([topor_clear, origache_clear, rhymestg_clear, rian_ru_clear])\n",
    "ultra_table.info()"
   ]
  },
  {
   "cell_type": "code",
   "execution_count": null,
   "metadata": {
    "id": "FHp1QYJa3KmR"
   },
   "outputs": [],
   "source": [
    "#Сохраняем полученную таблицу в отдельный csv-файл и идём создавать облака слов\n",
    "ultra_table.to_csv('grabb_table.csv', index=False) "
   ]
  }
 ],
 "metadata": {
  "colab": {
   "provenance": []
  },
  "kernelspec": {
   "display_name": "Python 3 (ipykernel)",
   "language": "python",
   "name": "python3"
  },
  "language_info": {
   "codemirror_mode": {
    "name": "ipython",
    "version": 3
   },
   "file_extension": ".py",
   "mimetype": "text/x-python",
   "name": "python",
   "nbconvert_exporter": "python",
   "pygments_lexer": "ipython3",
   "version": "3.9.13"
  }
 },
 "nbformat": 4,
 "nbformat_minor": 1
}
