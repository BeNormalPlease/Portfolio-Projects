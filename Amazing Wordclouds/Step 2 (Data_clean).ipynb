{
  "nbformat": 4,
  "nbformat_minor": 0,
  "metadata": {
    "colab": {
      "provenance": []
    },
    "kernelspec": {
      "name": "python3",
      "display_name": "Python 3"
    },
    "language_info": {
      "name": "python"
    }
  },
  "cells": [
    {
      "cell_type": "code",
      "execution_count": 1,
      "metadata": {
        "id": "PKtGQBnsp9yf"
      },
      "outputs": [],
      "source": [
        "import pandas as pd"
      ]
    },
    {
      "cell_type": "code",
      "source": [
        "#Данные получены, теперь причёсываем их\n",
        "#Первым делом узнаём как выглядят наши преобразованные csv-шки\n",
        "topor = pd.read_csv('/Step 1/topor.csv')\n",
        "topor.info()"
      ],
      "metadata": {
        "id": "cf4SM_cuwb4J"
      },
      "execution_count": null,
      "outputs": []
    },
    {
      "cell_type": "code",
      "source": [
        "#Создаём метку 'Group', как маяк для будущего облака слов\n",
        "topor['Group'] = 'Топор'\n",
        "\n",
        "#Оставляем всё необходимое (Хоть и пригодятся только 'Group' и 'message')\n",
        "topor_new = topor[['Group', 'date', 'message', 'views', 'forwards']]\n",
        "topor_new.info()"
      ],
      "metadata": {
        "id": "xyehHZNhwv1A"
      },
      "execution_count": null,
      "outputs": []
    },
    {
      "cell_type": "code",
      "source": [
        "#Видим, что нужный нам параметр 'message' есть не у всех значений, поэтому чистим всё, где этого параметра нет \n",
        "#(т.к данные без этого параметра в нашей ситуации просто бесполезны)\n",
        "topor_clear = topor_new.dropna()\n",
        "topor_clear.info()"
      ],
      "metadata": {
        "id": "UIRgTJjJyNe5"
      },
      "execution_count": null,
      "outputs": []
    },
    {
      "cell_type": "code",
      "source": [
        "#Приводим к нужному виду оставшиеся файлы\n",
        "origache = pd.read_csv('/Step 1/origache.csv')\n",
        "rhymestg = pd.read_csv('/Step 1/rhymestg.csv')\n",
        "rian_ru = pd.read_csv('/Step 1/rian_ru.csv')"
      ],
      "metadata": {
        "id": "tqfKPHJ9yX-w"
      },
      "execution_count": 5,
      "outputs": []
    },
    {
      "cell_type": "code",
      "source": [
        "origache['Group'] = 'Аче'\n",
        "origache_new = origache[['Group', 'date', 'message', 'views', 'forwards']]\n",
        "origache_clear = origache_new.dropna()\n",
        "\n",
        "rhymestg['Group'] = 'Рифмы и панчи'\n",
        "rhymestg_new = rhymestg[['Group', 'date', 'message', 'views', 'forwards']]\n",
        "rhymestg_clear = rhymestg_new.dropna()\n",
        "\n",
        "rian_ru['Group'] = 'Риа'\n",
        "rian_ru_new = rian_ru[['Group', 'date', 'message', 'views', 'forwards']]\n",
        "rian_ru_clear = rian_ru_new.dropna()"
      ],
      "metadata": {
        "id": "Kldi6LIP0FK6"
      },
      "execution_count": null,
      "outputs": []
    },
    {
      "cell_type": "code",
      "source": [
        "#Теперь для будущего удобства создаём одну большую табличку с очищенными данными и раставленными маячками групп\n",
        "ultra_table= pd.concat([topor_clear, origache_clear, rhymestg_clear, rian_ru_clear])\n",
        "ultra_table.info()"
      ],
      "metadata": {
        "id": "IAGN-X-90xUx"
      },
      "execution_count": null,
      "outputs": []
    },
    {
      "cell_type": "code",
      "source": [
        "#Сохраняем полученную таблицу в отдельный csv-файл и идём создавать облака слов\n",
        "ultra_table.to_csv('grabb_table.csv', index=False) "
      ],
      "metadata": {
        "id": "FHp1QYJa3KmR"
      },
      "execution_count": null,
      "outputs": []
    }
  ]
}